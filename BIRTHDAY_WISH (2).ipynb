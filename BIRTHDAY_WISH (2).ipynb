{
 "cells": [
  {
   "cell_type": "code",
   "execution_count": null,
   "id": "8f8a4ade-87ca-4ed2-8a65-a189d0698df8",
   "metadata": {},
   "outputs": [],
   "source": [
    "import pywhatkit\n",
    "import time\n",
    "\n",
    "class Birthday:\n",
    "\n",
    "    @staticmethod\n",
    "    def wish():\n",
    "        messages = []\n",
    "        for i in range(1, 1000):\n",
    "            if i == 100:\n",
    "                messages.append(f\"{i} HII..\")\n",
    "            else:\n",
    "                messages.append(f\"{i}. Happy birthday..\")\n",
    "\n",
    "        return \"\\n\".join(messages)\n",
    "\n",
    "# Create the message\n",
    "message = Birthday.wish()\n",
    "#message += \"https://www.youtube.com/watch?v=FLvxuM1_rDk\"  # Replace with your video link\n",
    "\n",
    "# Define the phone number (replace with your ex-girlfriend's phone number)\n",
    "phone_number = \"+91XXXXXXXXXX\"  # Replace with the target phone number\n",
    "\n",
    "# Number of times to send the message\n",
    "num_times = 1\n",
    "\n",
    "for i in range(num_times):\n",
    "    # Send the message via WhatsApp\n",
    "    pywhatkit.sendwhatmsg_instantly(phone_number, message)\n",
    "    # Optional: Add a delay to avoid being flagged as spam\n",
    "    time.sleep(0.1)  # 10 seconds delay between messages\n",
    "\n"
   ]
  }
 ],
 "metadata": {
  "kernelspec": {
   "display_name": "Python 3 (ipykernel)",
   "language": "python",
   "name": "python3"
  },
  "language_info": {
   "codemirror_mode": {
    "name": "ipython",
    "version": 3
   },
   "file_extension": ".py",
   "mimetype": "text/x-python",
   "name": "python",
   "nbconvert_exporter": "python",
   "pygments_lexer": "ipython3",
   "version": "3.11.7"
  }
 },
 "nbformat": 4,
 "nbformat_minor": 5
}
